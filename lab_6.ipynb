{
 "cells": [
  {
   "cell_type": "code",
   "execution_count": 54,
   "metadata": {},
   "outputs": [],
   "source": [
    "import numpy as np\n",
    "import matplotlib.pyplot as plt\n",
    "import pandas as pd\n",
    "import scipy\n",
    "from scipy import stats\n",
    "from statistics import mean\n",
    "from numpy.polynomial.polynomial import polyfit"
   ]
  },
  {
   "cell_type": "code",
   "execution_count": 22,
   "metadata": {},
   "outputs": [],
   "source": [
    "n1=np.array([17.5,22,29.5,44.5,64.5,80])\n",
    "n2=np.array([38,36,24,20,18,28])"
   ]
  },
  {
   "cell_type": "code",
   "execution_count": 23,
   "metadata": {},
   "outputs": [],
   "source": [
    "n=np.column_stack((n1,n2))"
   ]
  },
  {
   "cell_type": "code",
   "execution_count": 24,
   "metadata": {},
   "outputs": [],
   "source": [
    "l=len(n1)\n",
    "#initialize the list with all zeros\n",
    "p=[0]*(l+1)  "
   ]
  },
  {
   "cell_type": "code",
   "execution_count": 26,
   "metadata": {},
   "outputs": [
    {
     "name": "stdout",
     "output_type": "stream",
     "text": [
      "i= 0\n",
      "lower = 16.0  upper=  19\n",
      "i= 1\n",
      "lower = 20  upper=  24.0\n",
      "i= 2\n",
      "lower = 25.0  upper=  34.0\n",
      "i= 3\n",
      "lower = 35.0  upper=  54.0\n",
      "i= 4\n",
      "lower = 55.0  upper=  74.0\n",
      "i= 5\n",
      "lower = 75.0  upper=  85.0\n"
     ]
    }
   ],
   "source": [
    "lower_val=[]\n",
    "upper_val=[]\n",
    "for i in range(l):\n",
    "    print(\"i=\",i)\n",
    "    if(i==0):\n",
    "        upper=int((n1[0]+n1[1])/2)\n",
    "        lower=n1[0]-(upper-n1[0])\n",
    "    else:\n",
    "        lower=upper+1\n",
    "        upper=n1[i]+(n1[i]-lower)\n",
    "    lower_val.append(lower)\n",
    "    upper_val.append(upper)\n",
    "    print(\"lower =\",lower,\" upper= \",upper)"
   ]
  },
  {
   "cell_type": "code",
   "execution_count": 27,
   "metadata": {},
   "outputs": [
    {
     "data": {
      "text/plain": [
       "Text(0, 0.5, ' No. of Deaths')"
      ]
     },
     "execution_count": 27,
     "metadata": {},
     "output_type": "execute_result"
    },
    {
     "data": {
      "image/png": "[encoded data removed]",
      "text/plain": [
       "<Figure size 432x288 with 1 Axes>"
      ]
     },
     "metadata": {
      "needs_background": "light"
     },
     "output_type": "display_data"
    }
   ],
   "source": [
    "plt.scatter(n1,n2,s=20)\n",
    "plt.title('Scatter plot')\n",
    "plt.xlabel('Age')\n",
    "plt.ylabel(' No. of Deaths')\n"
   ]
  },
  {
   "cell_type": "code",
   "execution_count": 28,
   "metadata": {},
   "outputs": [],
   "source": [
    "df = pd.DataFrame(n, columns = ['Age', 'Deaths']) "
   ]
  },
  {
   "cell_type": "code",
   "execution_count": 29,
   "metadata": {},
   "outputs": [],
   "source": [
    "n1_s = n1**2\n",
    "n2_s = n2**2\n",
    "n1n2 = n1*n2"
   ]
  },
  {
   "cell_type": "code",
   "execution_count": 44,
   "metadata": {},
   "outputs": [],
   "source": [
    "df['lower']=lower_val\n",
    "df['upper']=upper_val\n",
    "\n",
    "df['Age_Square']=n1_s\n",
    "df['Death_Square']=n2_s\n",
    "df['xCrossY']=n1n2\n"
   ]
  },
  {
   "cell_type": "code",
   "execution_count": 45,
   "metadata": {},
   "outputs": [
    {
     "data": {
      "text/html": [
       "<div>\n",
       "<style scoped>\n",
       "    .dataframe tbody tr th:only-of-type {\n",
       "        vertical-align: middle;\n",
       "    }\n",
       "\n",
       "    .dataframe tbody tr th {\n",
       "        vertical-align: top;\n",
       "    }\n",
       "\n",
       "    .dataframe thead th {\n",
       "        text-align: right;\n",
       "    }\n",
       "</style>\n",
       "<table border=\"1\" class=\"dataframe\">\n",
       "  <thead>\n",
       "    <tr style=\"text-align: right;\">\n",
       "      <th></th>\n",
       "      <th>Age</th>\n",
       "      <th>lower</th>\n",
       "      <th>upper</th>\n",
       "      <th>Deaths</th>\n",
       "      <th>Age_Square</th>\n",
       "      <th>Death_Square</th>\n",
       "      <th>xCrossY</th>\n",
       "    </tr>\n",
       "  </thead>\n",
       "  <tbody>\n",
       "    <tr>\n",
       "      <th>0</th>\n",
       "      <td>17.5</td>\n",
       "      <td>16.0</td>\n",
       "      <td>19.0</td>\n",
       "      <td>38.0</td>\n",
       "      <td>306.25</td>\n",
       "      <td>1444</td>\n",
       "      <td>665.0</td>\n",
       "    </tr>\n",
       "    <tr>\n",
       "      <th>1</th>\n",
       "      <td>22.0</td>\n",
       "      <td>20.0</td>\n",
       "      <td>24.0</td>\n",
       "      <td>36.0</td>\n",
       "      <td>484.00</td>\n",
       "      <td>1296</td>\n",
       "      <td>792.0</td>\n",
       "    </tr>\n",
       "    <tr>\n",
       "      <th>2</th>\n",
       "      <td>29.5</td>\n",
       "      <td>25.0</td>\n",
       "      <td>34.0</td>\n",
       "      <td>24.0</td>\n",
       "      <td>870.25</td>\n",
       "      <td>576</td>\n",
       "      <td>708.0</td>\n",
       "    </tr>\n",
       "    <tr>\n",
       "      <th>3</th>\n",
       "      <td>44.5</td>\n",
       "      <td>35.0</td>\n",
       "      <td>54.0</td>\n",
       "      <td>20.0</td>\n",
       "      <td>1980.25</td>\n",
       "      <td>400</td>\n",
       "      <td>890.0</td>\n",
       "    </tr>\n",
       "    <tr>\n",
       "      <th>4</th>\n",
       "      <td>64.5</td>\n",
       "      <td>55.0</td>\n",
       "      <td>74.0</td>\n",
       "      <td>18.0</td>\n",
       "      <td>4160.25</td>\n",
       "      <td>324</td>\n",
       "      <td>1161.0</td>\n",
       "    </tr>\n",
       "    <tr>\n",
       "      <th>5</th>\n",
       "      <td>80.0</td>\n",
       "      <td>75.0</td>\n",
       "      <td>85.0</td>\n",
       "      <td>28.0</td>\n",
       "      <td>6400.00</td>\n",
       "      <td>784</td>\n",
       "      <td>2240.0</td>\n",
       "    </tr>\n",
       "  </tbody>\n",
       "</table>\n",
       "</div>"
      ],
      "text/plain": [
       "    Age  lower  upper  Deaths  Age_Square  Death_Square  xCrossY\n",
       "0  17.5   16.0   19.0    38.0      306.25          1444    665.0\n",
       "1  22.0   20.0   24.0    36.0      484.00          1296    792.0\n",
       "2  29.5   25.0   34.0    24.0      870.25           576    708.0\n",
       "3  44.5   35.0   54.0    20.0     1980.25           400    890.0\n",
       "4  64.5   55.0   74.0    18.0     4160.25           324   1161.0\n",
       "5  80.0   75.0   85.0    28.0     6400.00           784   2240.0"
      ]
     },
     "execution_count": 45,
     "metadata": {},
     "output_type": "execute_result"
    }
   ],
   "source": [
    "df=df[['Age','lower','upper','Deaths','Age_Square','Death_Square','xCrossY']]\n",
    "df"
   ]
  },
  {
   "cell_type": "code",
   "execution_count": 57,
   "metadata": {},
   "outputs": [],
   "source": [
    "#y = a + bx"
   ]
  },
  {
   "cell_type": "code",
   "execution_count": 46,
   "metadata": {},
   "outputs": [],
   "source": [
    "s_age=sum(df['Age'])\n",
    "s_deaths=sum(df['Deaths'])\n",
    "s_age_sq=sum(df['Age_Square'])\n",
    "s_death_sq=sum(df['Death_Square'])\n",
    "s_xy=sum(df['xCrossY'])"
   ]
  },
  {
   "cell_type": "code",
   "execution_count": 47,
   "metadata": {},
   "outputs": [],
   "source": [
    "b=( s_xy - (s_age*s_deaths)/l ) / (s_age_sq  - (s_age*s_age)/l)\n",
    "a= ( s_deaths - (b*s_age) )/l"
   ]
  },
  {
   "cell_type": "code",
   "execution_count": 49,
   "metadata": {},
   "outputs": [
    {
     "name": "stdout",
     "output_type": "stream",
     "text": [
      "b1= -0.19182491149018346\n",
      "b0= 35.58180452741122\n"
     ]
    }
   ],
   "source": [
    "print(\"b=\",b)\n",
    "print(\"a=\",a)"
   ]
  },
  {
   "cell_type": "code",
   "execution_count": 50,
   "metadata": {},
   "outputs": [
    {
     "name": "stdout",
     "output_type": "stream",
     "text": [
      "27.908808067803882\n"
     ]
    }
   ],
   "source": [
    "#for age 40\n",
    "y = a + b*40\n",
    "print(y)"
   ]
  },
  {
   "cell_type": "code",
   "execution_count": 51,
   "metadata": {},
   "outputs": [
    {
     "name": "stdout",
     "output_type": "stream",
     "text": [
      "24.072309838000216\n"
     ]
    }
   ],
   "source": [
    "#for age 60\n",
    "y = a + b*60\n",
    "print(y)"
   ]
  },
  {
   "cell_type": "code",
   "execution_count": 52,
   "metadata": {},
   "outputs": [
    {
     "data": {
      "image/png": "[encoded data removed]",
      "text/plain": [
       "<Figure size 432x288 with 1 Axes>"
      ]
     },
     "metadata": {
      "needs_background": "light"
     },
     "output_type": "display_data"
    }
   ],
   "source": [
    "plt.scatter(n1,n2,s=20)\n",
    "plt.title('Scatter plot')\n",
    "plt.xlabel('Independent variable - age')\n",
    "plt.ylabel('Dependent variablee - Deaths')\n",
    "x = n1\n",
    "y = b1 * x + b0\n",
    "\n",
    "# Fit with polyfit\n",
    "b, m = polyfit(x, y, 1)\n",
    "\n",
    "plt.plot(x, y, '.')\n",
    "plt.plot(x, b + m * x, '-')\n",
    "plt.show()"
   ]
  },
  {
   "cell_type": "code",
   "execution_count": 77,
   "metadata": {},
   "outputs": [],
   "source": [
    "# For entire dataset, there is a negative corelation between the Age and the No. of Deaths. \n",
    "#However, for the age group 80, there seems to be a positive relation i.e. the number of deaths increases with the age."
   ]
  },
  {
   "cell_type": "code",
   "execution_count": 55,
   "metadata": {},
   "outputs": [
    {
     "data": {
      "text/plain": [
       "(-0.578743707566063, 0.22880788559284734)"
      ]
     },
     "execution_count": 55,
     "metadata": {},
     "output_type": "execute_result"
    }
   ],
   "source": [
    "#Correlation coefficient\n",
    "scipy.stats.pearsonr(n1,n2)"
   ]
  }
 ],
 "metadata": {
  "kernelspec": {
   "display_name": "Python 3",
   "language": "python",
   "name": "python3"
  },
  "language_info": {
   "codemirror_mode": {
    "name": "ipython",
    "version": 3
   },
   "file_extension": ".py",
   "mimetype": "text/x-python",
   "name": "python",
   "nbconvert_exporter": "python",
   "pygments_lexer": "ipython3",
   "version": "3.7.0"
  }
 },
 "nbformat": 4,
 "nbformat_minor": 2
}
